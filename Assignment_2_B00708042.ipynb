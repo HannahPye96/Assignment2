{
 "cells": [
  {
   "cell_type": "markdown",
   "metadata": {},
   "source": [
    "# What Is The Ideal Starter Dog Breed for a Family?"
   ]
  },
  {
   "cell_type": "markdown",
   "metadata": {},
   "source": [
    "                                                                                                 Name:Hannah Pye (B00708042)\n",
    "                                                                                                 Due Date: November 11th 2018"
   ]
  },
  {
   "cell_type": "markdown",
   "metadata": {},
   "source": [
    "#### Introduction"
   ]
  },
  {
   "cell_type": "markdown",
   "metadata": {},
   "source": [
    "Picking out your first dog can be an exciting step for any family. This animal will be not only a personal companion but an integral part of the household for years to come, therefore it is important to be aware of the different breeds of canine and how the differ. Thankfully, websites like \"www.dogbreedchart.com\" are a fundamental resource in learning key characteristics about different dog breeds. By filtering through this information using R we can determine what the most ideal dog breed is for a family looking for their first pet.\n",
    "\n",
    "Naturally not all dogs can be categorized this way, personality does change from dog to dog respectively, but overall the final breed we come up with should be the best option to start a family off with their first dog. In this study, we are classifying a family as any number of people living in a household together so long that that dwelling  include parents or guardians and their dependents. \n",
    "\n",
    "The Dog Breed Chart provides information on nearly 200 different breeds of dog over twelve categories such as 'Size', 'Kid Friendly', 'Dog Friendly', 'Low Shedding', 'Easy to Groom', 'High Energy', 'Good Health', 'Low Barking', 'Intelligence', 'Easy to Train', 'Tolerates Hot', and 'Tolerates Cold'. Each breed is then given a number under each of the twelve categories on a scale of 1 to 5 indicating its relationship. A value of 1 in these cases indicates the low end of the dog breed scale, while a value of 5 indicates high. \n",
    "\n",
    "For example, a value of 1 for the 'Size' category indicates a small dog, while a value of 5 indicates a large dog. While a value of 1 in the 'Low Barking' category indicates the dog is very loud, while a value of 5 indicates a quiet dog. Finally, a value of 1 in the 'Good Health' category indicates that the dog is naturally predisposed to have health issues, while a dog with a value of 5 in this category is more genetically robust than others. \n",
    "\n",
    "The five categories we will be using to get our answer for this research question are: 'Kid Friendly'; which we will use to filter out the dogs that are less tolerable towards children to giving us the most naturally timid breeds, 'Easy to Groom' and 'Good Health'; which will give us a dog which requires relatively low maintenance and therefore lower cost, 'Low Barking'; which is important especially around young children who sleep for extended hours and are easily awakened, and 'Easy to Train'; which will gives us a more obedient dog. These traits were selected specifically because they compound to  express the most desirable features for a family looking for their first dog. "
   ]
  },
  {
   "cell_type": "markdown",
   "metadata": {},
   "source": [
    "#### Methods & Results"
   ]
  },
  {
   "cell_type": "markdown",
   "metadata": {},
   "source": [
    "To begin, the proper packages must be installed and ran for the project. The package \"rvest\" will be needed for scraping the data from the 'Dog Breed Chart' website. \"stringr\" is used for string manipulation, like splitting and piping. \"tidyr\" will be needed to keep our data organized and easy to read. Finally, \"dplyr\" will be used for filtering our data to help find the answer to our research question."
   ]
  },
  {
   "cell_type": "code",
   "execution_count": 2,
   "metadata": {},
   "outputs": [
    {
     "name": "stdout",
     "output_type": "stream",
     "text": [
      "package 'rvest' successfully unpacked and MD5 sums checked\n",
      "\n",
      "The downloaded binary packages are in\n",
      "\tC:\\Users\\Hannah\\AppData\\Local\\Temp\\RtmpSOTnAy\\downloaded_packages\n"
     ]
    },
    {
     "name": "stderr",
     "output_type": "stream",
     "text": [
      "Loading required package: xml2\n"
     ]
    },
    {
     "name": "stdout",
     "output_type": "stream",
     "text": [
      "package 'stringr' successfully unpacked and MD5 sums checked\n",
      "\n",
      "The downloaded binary packages are in\n",
      "\tC:\\Users\\Hannah\\AppData\\Local\\Temp\\RtmpSOTnAy\\downloaded_packages\n",
      "package 'tidyr' successfully unpacked and MD5 sums checked\n",
      "\n",
      "The downloaded binary packages are in\n",
      "\tC:\\Users\\Hannah\\AppData\\Local\\Temp\\RtmpSOTnAy\\downloaded_packages\n",
      "package 'dplyr' successfully unpacked and MD5 sums checked\n",
      "\n",
      "The downloaded binary packages are in\n",
      "\tC:\\Users\\Hannah\\AppData\\Local\\Temp\\RtmpSOTnAy\\downloaded_packages\n"
     ]
    },
    {
     "name": "stderr",
     "output_type": "stream",
     "text": [
      "\n",
      "Attaching package: 'dplyr'\n",
      "\n",
      "The following objects are masked from 'package:stats':\n",
      "\n",
      "    filter, lag\n",
      "\n",
      "The following objects are masked from 'package:base':\n",
      "\n",
      "    intersect, setdiff, setequal, union\n",
      "\n"
     ]
    }
   ],
   "source": [
    "install.packages(\"rvest\")\n",
    "library(rvest)\n",
    "\n",
    "install.packages(\"stringr\")\n",
    "library(stringr)\n",
    "\n",
    "install.packages(\"tidyr\")\n",
    "library(tidyr)\n",
    "\n",
    "install.packages(\"dplyr\")\n",
    "library(dplyr)"
   ]
  },
  {
   "cell_type": "markdown",
   "metadata": {},
   "source": [
    "To get the data off of the website we will need to use the `read_html()` function to scrape the information and `html_nodes()` in conjunction with `html_text()` to convert it into a readable form."
   ]
  },
  {
   "cell_type": "code",
   "execution_count": 20,
   "metadata": {},
   "outputs": [
    {
     "data": {
      "text/html": [
       "<ol class=list-inline>\n",
       "\t<li><span style=white-space:pre-wrap>'Photo\\n            Name\\n            Size\\n            Kid Friendly\\n            Dog Friendly\\n            Low Shedding\\n            Easy to Groom\\n            High Energy\\n            Good Health\\n            Low Barking\\n            Intelligence\\n            Easy to Train\\n            Tolerates Hot\\n            Tolerates Cold\\n          '</span></li>\n",
       "\t<li><span style=white-space:pre-wrap>'Photo\\n      Name\\n      Size\\n      Kid Friendly\\n      Dog Friendly\\n      Low Shedding\\n      Easy to Groom\\n      High Energy\\n      Good Health\\n      Low Barking\\n      Intelligence\\n      Easy to Train\\n      Tolerates Hot\\n      Tolerates Cold\\n    '</span></li>\n",
       "\t<li><span style=white-space:pre-wrap>'\\n        \\n          \\n      \\n      \\n        \\n          Affenpinscher\\n        \\n      \\n      \\n        1\\n      \\n      \\n        1\\n      \\n      \\n        1\\n      \\n      \\n        5\\n      \\n      \\n        3\\n      \\n      \\n        4\\n      \\n      \\n        4\\n      \\n      \\n        4\\n      \\n      \\n        4\\n      \\n      \\n        2\\n      \\n      \\n        3\\n      \\n      \\n        3\\n      \\n    '</span></li>\n",
       "\t<li><span style=white-space:pre-wrap>'\\n        \\n          \\n      \\n      \\n        \\n          Afghan Hound\\n        \\n      \\n      \\n        4\\n      \\n      \\n        5\\n      \\n      \\n        5\\n      \\n      \\n        2\\n      \\n      \\n        1\\n      \\n      \\n        5\\n      \\n      \\n        3\\n      \\n      \\n        4\\n      \\n      \\n        4\\n      \\n      \\n        1\\n      \\n      \\n        5\\n      \\n      \\n        5\\n      \\n    '</span></li>\n",
       "\t<li><span style=white-space:pre-wrap>'\\n        \\n          \\n      \\n      \\n        \\n          Airedale Terrier\\n        \\n      \\n      \\n        3\\n      \\n      \\n        4\\n      \\n      \\n        4\\n      \\n      \\n        4\\n      \\n      \\n        2\\n      \\n      \\n        5\\n      \\n      \\n        3\\n      \\n      \\n        2\\n      \\n      \\n        5\\n      \\n      \\n        4\\n      \\n      \\n        3\\n      \\n      \\n        3\\n      \\n    '</span></li>\n",
       "\t<li><span style=white-space:pre-wrap>'\\n        \\n          \\n      \\n      \\n        \\n          Akita\\n        \\n      \\n      \\n        4\\n      \\n      \\n        1\\n      \\n      \\n        1\\n      \\n      \\n        1\\n      \\n      \\n        1\\n      \\n      \\n        4\\n      \\n      \\n        4\\n      \\n      \\n        1\\n      \\n      \\n        3\\n      \\n      \\n        2\\n      \\n      \\n        2\\n      \\n      \\n        5\\n      \\n    '</span></li>\n",
       "</ol>\n"
      ],
      "text/latex": [
       "\\begin{enumerate*}\n",
       "\\item 'Photo\\textbackslash{}n            Name\\textbackslash{}n            Size\\textbackslash{}n            Kid Friendly\\textbackslash{}n            Dog Friendly\\textbackslash{}n            Low Shedding\\textbackslash{}n            Easy to Groom\\textbackslash{}n            High Energy\\textbackslash{}n            Good Health\\textbackslash{}n            Low Barking\\textbackslash{}n            Intelligence\\textbackslash{}n            Easy to Train\\textbackslash{}n            Tolerates Hot\\textbackslash{}n            Tolerates Cold\\textbackslash{}n          '\n",
       "\\item 'Photo\\textbackslash{}n      Name\\textbackslash{}n      Size\\textbackslash{}n      Kid Friendly\\textbackslash{}n      Dog Friendly\\textbackslash{}n      Low Shedding\\textbackslash{}n      Easy to Groom\\textbackslash{}n      High Energy\\textbackslash{}n      Good Health\\textbackslash{}n      Low Barking\\textbackslash{}n      Intelligence\\textbackslash{}n      Easy to Train\\textbackslash{}n      Tolerates Hot\\textbackslash{}n      Tolerates Cold\\textbackslash{}n    '\n",
       "\\item '\\textbackslash{}n        \\textbackslash{}n          \\textbackslash{}n      \\textbackslash{}n      \\textbackslash{}n        \\textbackslash{}n          Affenpinscher\\textbackslash{}n        \\textbackslash{}n      \\textbackslash{}n      \\textbackslash{}n        1\\textbackslash{}n      \\textbackslash{}n      \\textbackslash{}n        1\\textbackslash{}n      \\textbackslash{}n      \\textbackslash{}n        1\\textbackslash{}n      \\textbackslash{}n      \\textbackslash{}n        5\\textbackslash{}n      \\textbackslash{}n      \\textbackslash{}n        3\\textbackslash{}n      \\textbackslash{}n      \\textbackslash{}n        4\\textbackslash{}n      \\textbackslash{}n      \\textbackslash{}n        4\\textbackslash{}n      \\textbackslash{}n      \\textbackslash{}n        4\\textbackslash{}n      \\textbackslash{}n      \\textbackslash{}n        4\\textbackslash{}n      \\textbackslash{}n      \\textbackslash{}n        2\\textbackslash{}n      \\textbackslash{}n      \\textbackslash{}n        3\\textbackslash{}n      \\textbackslash{}n      \\textbackslash{}n        3\\textbackslash{}n      \\textbackslash{}n    '\n",
       "\\item '\\textbackslash{}n        \\textbackslash{}n          \\textbackslash{}n      \\textbackslash{}n      \\textbackslash{}n        \\textbackslash{}n          Afghan Hound\\textbackslash{}n        \\textbackslash{}n      \\textbackslash{}n      \\textbackslash{}n        4\\textbackslash{}n      \\textbackslash{}n      \\textbackslash{}n        5\\textbackslash{}n      \\textbackslash{}n      \\textbackslash{}n        5\\textbackslash{}n      \\textbackslash{}n      \\textbackslash{}n        2\\textbackslash{}n      \\textbackslash{}n      \\textbackslash{}n        1\\textbackslash{}n      \\textbackslash{}n      \\textbackslash{}n        5\\textbackslash{}n      \\textbackslash{}n      \\textbackslash{}n        3\\textbackslash{}n      \\textbackslash{}n      \\textbackslash{}n        4\\textbackslash{}n      \\textbackslash{}n      \\textbackslash{}n        4\\textbackslash{}n      \\textbackslash{}n      \\textbackslash{}n        1\\textbackslash{}n      \\textbackslash{}n      \\textbackslash{}n        5\\textbackslash{}n      \\textbackslash{}n      \\textbackslash{}n        5\\textbackslash{}n      \\textbackslash{}n    '\n",
       "\\item '\\textbackslash{}n        \\textbackslash{}n          \\textbackslash{}n      \\textbackslash{}n      \\textbackslash{}n        \\textbackslash{}n          Airedale Terrier\\textbackslash{}n        \\textbackslash{}n      \\textbackslash{}n      \\textbackslash{}n        3\\textbackslash{}n      \\textbackslash{}n      \\textbackslash{}n        4\\textbackslash{}n      \\textbackslash{}n      \\textbackslash{}n        4\\textbackslash{}n      \\textbackslash{}n      \\textbackslash{}n        4\\textbackslash{}n      \\textbackslash{}n      \\textbackslash{}n        2\\textbackslash{}n      \\textbackslash{}n      \\textbackslash{}n        5\\textbackslash{}n      \\textbackslash{}n      \\textbackslash{}n        3\\textbackslash{}n      \\textbackslash{}n      \\textbackslash{}n        2\\textbackslash{}n      \\textbackslash{}n      \\textbackslash{}n        5\\textbackslash{}n      \\textbackslash{}n      \\textbackslash{}n        4\\textbackslash{}n      \\textbackslash{}n      \\textbackslash{}n        3\\textbackslash{}n      \\textbackslash{}n      \\textbackslash{}n        3\\textbackslash{}n      \\textbackslash{}n    '\n",
       "\\item '\\textbackslash{}n        \\textbackslash{}n          \\textbackslash{}n      \\textbackslash{}n      \\textbackslash{}n        \\textbackslash{}n          Akita\\textbackslash{}n        \\textbackslash{}n      \\textbackslash{}n      \\textbackslash{}n        4\\textbackslash{}n      \\textbackslash{}n      \\textbackslash{}n        1\\textbackslash{}n      \\textbackslash{}n      \\textbackslash{}n        1\\textbackslash{}n      \\textbackslash{}n      \\textbackslash{}n        1\\textbackslash{}n      \\textbackslash{}n      \\textbackslash{}n        1\\textbackslash{}n      \\textbackslash{}n      \\textbackslash{}n        4\\textbackslash{}n      \\textbackslash{}n      \\textbackslash{}n        4\\textbackslash{}n      \\textbackslash{}n      \\textbackslash{}n        1\\textbackslash{}n      \\textbackslash{}n      \\textbackslash{}n        3\\textbackslash{}n      \\textbackslash{}n      \\textbackslash{}n        2\\textbackslash{}n      \\textbackslash{}n      \\textbackslash{}n        2\\textbackslash{}n      \\textbackslash{}n      \\textbackslash{}n        5\\textbackslash{}n      \\textbackslash{}n    '\n",
       "\\end{enumerate*}\n"
      ],
      "text/markdown": [
       "1. <span style=white-space:pre-wrap>'Photo\\n            Name\\n            Size\\n            Kid Friendly\\n            Dog Friendly\\n            Low Shedding\\n            Easy to Groom\\n            High Energy\\n            Good Health\\n            Low Barking\\n            Intelligence\\n            Easy to Train\\n            Tolerates Hot\\n            Tolerates Cold\\n          '</span>\n",
       "2. <span style=white-space:pre-wrap>'Photo\\n      Name\\n      Size\\n      Kid Friendly\\n      Dog Friendly\\n      Low Shedding\\n      Easy to Groom\\n      High Energy\\n      Good Health\\n      Low Barking\\n      Intelligence\\n      Easy to Train\\n      Tolerates Hot\\n      Tolerates Cold\\n    '</span>\n",
       "3. <span style=white-space:pre-wrap>'\\n        \\n          \\n      \\n      \\n        \\n          Affenpinscher\\n        \\n      \\n      \\n        1\\n      \\n      \\n        1\\n      \\n      \\n        1\\n      \\n      \\n        5\\n      \\n      \\n        3\\n      \\n      \\n        4\\n      \\n      \\n        4\\n      \\n      \\n        4\\n      \\n      \\n        4\\n      \\n      \\n        2\\n      \\n      \\n        3\\n      \\n      \\n        3\\n      \\n    '</span>\n",
       "4. <span style=white-space:pre-wrap>'\\n        \\n          \\n      \\n      \\n        \\n          Afghan Hound\\n        \\n      \\n      \\n        4\\n      \\n      \\n        5\\n      \\n      \\n        5\\n      \\n      \\n        2\\n      \\n      \\n        1\\n      \\n      \\n        5\\n      \\n      \\n        3\\n      \\n      \\n        4\\n      \\n      \\n        4\\n      \\n      \\n        1\\n      \\n      \\n        5\\n      \\n      \\n        5\\n      \\n    '</span>\n",
       "5. <span style=white-space:pre-wrap>'\\n        \\n          \\n      \\n      \\n        \\n          Airedale Terrier\\n        \\n      \\n      \\n        3\\n      \\n      \\n        4\\n      \\n      \\n        4\\n      \\n      \\n        4\\n      \\n      \\n        2\\n      \\n      \\n        5\\n      \\n      \\n        3\\n      \\n      \\n        2\\n      \\n      \\n        5\\n      \\n      \\n        4\\n      \\n      \\n        3\\n      \\n      \\n        3\\n      \\n    '</span>\n",
       "6. <span style=white-space:pre-wrap>'\\n        \\n          \\n      \\n      \\n        \\n          Akita\\n        \\n      \\n      \\n        4\\n      \\n      \\n        1\\n      \\n      \\n        1\\n      \\n      \\n        1\\n      \\n      \\n        1\\n      \\n      \\n        4\\n      \\n      \\n        4\\n      \\n      \\n        1\\n      \\n      \\n        3\\n      \\n      \\n        2\\n      \\n      \\n        2\\n      \\n      \\n        5\\n      \\n    '</span>\n",
       "\n",
       "\n"
      ],
      "text/plain": [
       "[1] \"Photo\\n            Name\\n            Size\\n            Kid Friendly\\n            Dog Friendly\\n            Low Shedding\\n            Easy to Groom\\n            High Energy\\n            Good Health\\n            Low Barking\\n            Intelligence\\n            Easy to Train\\n            Tolerates Hot\\n            Tolerates Cold\\n          \"                                                                                   \n",
       "[2] \"Photo\\n      Name\\n      Size\\n      Kid Friendly\\n      Dog Friendly\\n      Low Shedding\\n      Easy to Groom\\n      High Energy\\n      Good Health\\n      Low Barking\\n      Intelligence\\n      Easy to Train\\n      Tolerates Hot\\n      Tolerates Cold\\n    \"                                                                                                                                                                       \n",
       "[3] \"\\n        \\n          \\n      \\n      \\n        \\n          Affenpinscher\\n        \\n      \\n      \\n        1\\n      \\n      \\n        1\\n      \\n      \\n        1\\n      \\n      \\n        5\\n      \\n      \\n        3\\n      \\n      \\n        4\\n      \\n      \\n        4\\n      \\n      \\n        4\\n      \\n      \\n        4\\n      \\n      \\n        2\\n      \\n      \\n        3\\n      \\n      \\n        3\\n      \\n    \"   \n",
       "[4] \"\\n        \\n          \\n      \\n      \\n        \\n          Afghan Hound\\n        \\n      \\n      \\n        4\\n      \\n      \\n        5\\n      \\n      \\n        5\\n      \\n      \\n        2\\n      \\n      \\n        1\\n      \\n      \\n        5\\n      \\n      \\n        3\\n      \\n      \\n        4\\n      \\n      \\n        4\\n      \\n      \\n        1\\n      \\n      \\n        5\\n      \\n      \\n        5\\n      \\n    \"    \n",
       "[5] \"\\n        \\n          \\n      \\n      \\n        \\n          Airedale Terrier\\n        \\n      \\n      \\n        3\\n      \\n      \\n        4\\n      \\n      \\n        4\\n      \\n      \\n        4\\n      \\n      \\n        2\\n      \\n      \\n        5\\n      \\n      \\n        3\\n      \\n      \\n        2\\n      \\n      \\n        5\\n      \\n      \\n        4\\n      \\n      \\n        3\\n      \\n      \\n        3\\n      \\n    \"\n",
       "[6] \"\\n        \\n          \\n      \\n      \\n        \\n          Akita\\n        \\n      \\n      \\n        4\\n      \\n      \\n        1\\n      \\n      \\n        1\\n      \\n      \\n        1\\n      \\n      \\n        1\\n      \\n      \\n        4\\n      \\n      \\n        4\\n      \\n      \\n        1\\n      \\n      \\n        3\\n      \\n      \\n        2\\n      \\n      \\n        2\\n      \\n      \\n        5\\n      \\n    \"           "
      ]
     },
     "metadata": {},
     "output_type": "display_data"
    }
   ],
   "source": [
    "ReadSite = read_html(\"http://www.dogbreedchart.com/\")\n",
    "SiteText = ReadSite %>% html_nodes('tr') %>% html_text()\n",
    "head(SiteText)"
   ]
  },
  {
   "cell_type": "markdown",
   "metadata": {},
   "source": [
    "This data will need to be cleaned before it can be converted into a table for our data analysis. Cleaning means removing anything from it which is not inherently data itself. As you can see from the `head()` function ablove, the information is intermingled with a pattern of '\\n' in addition to two rows of title text at the beginning of the data set, and one row at the end.\n",
    "\n",
    "To do this the `gsub()` function will need to be used to select all of the '\\n' pieces in the 'SiteText' vector and remove them. Next, the table was adjusted to remove the three lines of unnecessary text."
   ]
  },
  {
   "cell_type": "code",
   "execution_count": 21,
   "metadata": {
    "scrolled": true
   },
   "outputs": [
    {
     "data": {
      "text/html": [
       "<ol class=list-inline>\n",
       "\t<li><span style=white-space:pre-wrap>                                                Affenpinscher                            1                    1                    1                    5                    3                    4                    4                    4                    4                    2                    3                    3          </span></li>\n",
       "\t<li><span style=white-space:pre-wrap>                                                Afghan Hound                            4                    5                    5                    2                    1                    5                    3                    4                    4                    1                    5                    5          </span></li>\n",
       "\t<li><span style=white-space:pre-wrap>                                                Airedale Terrier                            3                    4                    4                    4                    2                    5                    3                    2                    5                    4                    3                    3          </span></li>\n",
       "\t<li><span style=white-space:pre-wrap>                                                Akita                            4                    1                    1                    1                    1                    4                    4                    1                    3                    2                    2                    5          </span></li>\n",
       "\t<li><span style=white-space:pre-wrap>                                                Alaskan Malamute                            4                    3                    3                    1                    1                    5                    4                    1                    4                    4                    2                    5          </span></li>\n",
       "\t<li><span style=white-space:pre-wrap>                                                American English Coonhound                            3                    5                    5                    3                    5                    5                    4                    1                    4                    5                    4                    4          </span></li>\n",
       "</ol>\n"
      ],
      "text/latex": [
       "\\begin{enumerate*}\n",
       "\\item                                                 Affenpinscher                            1                    1                    1                    5                    3                    4                    4                    4                    4                    2                    3                    3          \n",
       "\\item                                                 Afghan Hound                            4                    5                    5                    2                    1                    5                    3                    4                    4                    1                    5                    5          \n",
       "\\item                                                 Airedale Terrier                            3                    4                    4                    4                    2                    5                    3                    2                    5                    4                    3                    3          \n",
       "\\item                                                 Akita                            4                    1                    1                    1                    1                    4                    4                    1                    3                    2                    2                    5          \n",
       "\\item                                                 Alaskan Malamute                            4                    3                    3                    1                    1                    5                    4                    1                    4                    4                    2                    5          \n",
       "\\item                                                 American English Coonhound                            3                    5                    5                    3                    5                    5                    4                    1                    4                    5                    4                    4          \n",
       "\\end{enumerate*}\n"
      ],
      "text/markdown": [
       "1. <span style=white-space:pre-wrap>                                                Affenpinscher                            1                    1                    1                    5                    3                    4                    4                    4                    4                    2                    3                    3          </span>\n",
       "2. <span style=white-space:pre-wrap>                                                Afghan Hound                            4                    5                    5                    2                    1                    5                    3                    4                    4                    1                    5                    5          </span>\n",
       "3. <span style=white-space:pre-wrap>                                                Airedale Terrier                            3                    4                    4                    4                    2                    5                    3                    2                    5                    4                    3                    3          </span>\n",
       "4. <span style=white-space:pre-wrap>                                                Akita                            4                    1                    1                    1                    1                    4                    4                    1                    3                    2                    2                    5          </span>\n",
       "5. <span style=white-space:pre-wrap>                                                Alaskan Malamute                            4                    3                    3                    1                    1                    5                    4                    1                    4                    4                    2                    5          </span>\n",
       "6. <span style=white-space:pre-wrap>                                                American English Coonhound                            3                    5                    5                    3                    5                    5                    4                    1                    4                    5                    4                    4          </span>\n",
       "\n",
       "\n"
      ],
      "text/plain": [
       "[1]                                                 Affenpinscher                            1                    1                    1                    5                    3                    4                    4                    4                    4                    2                    3                    3                       \n",
       "[2]                                                 Afghan Hound                            4                    5                    5                    2                    1                    5                    3                    4                    4                    1                    5                    5                        \n",
       "[3]                                                 Airedale Terrier                            3                    4                    4                    4                    2                    5                    3                    2                    5                    4                    3                    3                    \n",
       "[4]                                                 Akita                            4                    1                    1                    1                    1                    4                    4                    1                    3                    2                    2                    5                               \n",
       "[5]                                                 Alaskan Malamute                            4                    3                    3                    1                    1                    5                    4                    1                    4                    4                    2                    5                    \n",
       "[6]                                                 American English Coonhound                            3                    5                    5                    3                    5                    5                    4                    1                    4                    5                    4                    4          \n",
       "202 Levels:                                                 Affenpinscher                            1                    1                    1                    5                    3                    4                    4                    4                    4                    2                    3                    3           ..."
      ]
     },
     "metadata": {},
     "output_type": "display_data"
    }
   ],
   "source": [
    "Clean = gsub(\"(\\n)\", \"\", SiteText)\n",
    "Table = data.frame(Clean)\n",
    "DataOnly = Table[3:201, ]\n",
    "head(DataOnly)"
   ]
  },
  {
   "cell_type": "markdown",
   "metadata": {},
   "source": [
    "Now that the information is put into a table, it needs to be organized into a format to make it more closely resemble the 'Dog Breed Chart'. To begin, the large string of twenty spaces seperating all of the values will need to be removed. We will be using the `str_split_fixed()` function on the 'DataOnly' vector. \n",
    "\n",
    "In this instance we will be expecting a fifteen column return because on the website there are two extra columns of data which do not appear here; an id string for the coder of the website, and a photograph of the specific dog breed.\n",
    "\n",
    "We will then need to input the column names from the website as well, and these can be taken from either of the first two lines of code we had removed in the previous step. Finally, the chart needs to be reduced in size again to remove the first two blank columns of data.\n",
    "\n",
    "Now we have the Dog Breed Chart as depicted on www.dogbreedchart.com but it will still require some more alterations before we can get to our data collection step. "
   ]
  },
  {
   "cell_type": "code",
   "execution_count": 22,
   "metadata": {},
   "outputs": [
    {
     "data": {
      "text/html": [
       "<table>\n",
       "<thead><tr><th scope=col>Name</th><th scope=col>Size</th><th scope=col>Kid_Friendly</th><th scope=col>Dog_Friendly</th><th scope=col>Low_Shedding</th><th scope=col>Easy_to_Groom</th><th scope=col>High_Energy</th><th scope=col>Good_Health</th><th scope=col>Low_Barking</th><th scope=col>Intelligence</th><th scope=col>Easy_to_Train</th><th scope=col>Tolerates_Hot</th><th scope=col>Tolerates_Cold</th></tr></thead>\n",
       "<tbody>\n",
       "\t<tr><td>          Affenpinscher             </td><td>         1                          </td><td> 1                                  </td><td> 1                                  </td><td> 5                                  </td><td> 3                                  </td><td> 4                                  </td><td> 4                                  </td><td> 4                                  </td><td> 4                                  </td><td> 2                                  </td><td> 3                                  </td><td> 3                                  </td></tr>\n",
       "\t<tr><td>          Afghan Hound              </td><td>         4                          </td><td> 5                                  </td><td> 5                                  </td><td> 2                                  </td><td> 1                                  </td><td> 5                                  </td><td> 3                                  </td><td> 4                                  </td><td> 4                                  </td><td> 1                                  </td><td> 5                                  </td><td> 5                                  </td></tr>\n",
       "\t<tr><td>          Airedale Terrier          </td><td>         3                          </td><td> 4                                  </td><td> 4                                  </td><td> 4                                  </td><td> 2                                  </td><td> 5                                  </td><td> 3                                  </td><td> 2                                  </td><td> 5                                  </td><td> 4                                  </td><td> 3                                  </td><td> 3                                  </td></tr>\n",
       "\t<tr><td>          Akita                     </td><td>         4                          </td><td> 1                                  </td><td> 1                                  </td><td> 1                                  </td><td> 1                                  </td><td> 4                                  </td><td> 4                                  </td><td> 1                                  </td><td> 3                                  </td><td> 2                                  </td><td> 2                                  </td><td> 5                                  </td></tr>\n",
       "\t<tr><td>          Alaskan Malamute          </td><td>         4                          </td><td> 3                                  </td><td> 3                                  </td><td> 1                                  </td><td> 1                                  </td><td> 5                                  </td><td> 4                                  </td><td> 1                                  </td><td> 4                                  </td><td> 4                                  </td><td> 2                                  </td><td> 5                                  </td></tr>\n",
       "\t<tr><td>          American English Coonhound</td><td>         3                          </td><td> 5                                  </td><td> 5                                  </td><td> 3                                  </td><td> 5                                  </td><td> 5                                  </td><td> 4                                  </td><td> 1                                  </td><td> 4                                  </td><td> 5                                  </td><td> 4                                  </td><td> 4                                  </td></tr>\n",
       "</tbody>\n",
       "</table>\n"
      ],
      "text/latex": [
       "\\begin{tabular}{lllllllllllll}\n",
       " Name & Size & Kid\\_Friendly & Dog\\_Friendly & Low\\_Shedding & Easy\\_to\\_Groom & High\\_Energy & Good\\_Health & Low\\_Barking & Intelligence & Easy\\_to\\_Train & Tolerates\\_Hot & Tolerates\\_Cold\\\\\n",
       "\\hline\n",
       "\t           Affenpinscher              &          1                           &  1                                   &  1                                   &  5                                   &  3                                   &  4                                   &  4                                   &  4                                   &  4                                   &  2                                   &  3                                   &  3                                  \\\\\n",
       "\t           Afghan Hound               &          4                           &  5                                   &  5                                   &  2                                   &  1                                   &  5                                   &  3                                   &  4                                   &  4                                   &  1                                   &  5                                   &  5                                  \\\\\n",
       "\t           Airedale Terrier           &          3                           &  4                                   &  4                                   &  4                                   &  2                                   &  5                                   &  3                                   &  2                                   &  5                                   &  4                                   &  3                                   &  3                                  \\\\\n",
       "\t           Akita                      &          4                           &  1                                   &  1                                   &  1                                   &  1                                   &  4                                   &  4                                   &  1                                   &  3                                   &  2                                   &  2                                   &  5                                  \\\\\n",
       "\t           Alaskan Malamute           &          4                           &  3                                   &  3                                   &  1                                   &  1                                   &  5                                   &  4                                   &  1                                   &  4                                   &  4                                   &  2                                   &  5                                  \\\\\n",
       "\t           American English Coonhound &          3                           &  5                                   &  5                                   &  3                                   &  5                                   &  5                                   &  4                                   &  1                                   &  4                                   &  5                                   &  4                                   &  4                                  \\\\\n",
       "\\end{tabular}\n"
      ],
      "text/markdown": [
       "\n",
       "Name | Size | Kid_Friendly | Dog_Friendly | Low_Shedding | Easy_to_Groom | High_Energy | Good_Health | Low_Barking | Intelligence | Easy_to_Train | Tolerates_Hot | Tolerates_Cold | \n",
       "|---|---|---|---|---|---|\n",
       "|           Affenpinscher              |          1                           |  1                                   |  1                                   |  5                                   |  3                                   |  4                                   |  4                                   |  4                                   |  4                                   |  2                                   |  3                                   |  3                                   | \n",
       "|           Afghan Hound               |          4                           |  5                                   |  5                                   |  2                                   |  1                                   |  5                                   |  3                                   |  4                                   |  4                                   |  1                                   |  5                                   |  5                                   | \n",
       "|           Airedale Terrier           |          3                           |  4                                   |  4                                   |  4                                   |  2                                   |  5                                   |  3                                   |  2                                   |  5                                   |  4                                   |  3                                   |  3                                   | \n",
       "|           Akita                      |          4                           |  1                                   |  1                                   |  1                                   |  1                                   |  4                                   |  4                                   |  1                                   |  3                                   |  2                                   |  2                                   |  5                                   | \n",
       "|           Alaskan Malamute           |          4                           |  3                                   |  3                                   |  1                                   |  1                                   |  5                                   |  4                                   |  1                                   |  4                                   |  4                                   |  2                                   |  5                                   | \n",
       "|           American English Coonhound |          3                           |  5                                   |  5                                   |  3                                   |  5                                   |  5                                   |  4                                   |  1                                   |  4                                   |  5                                   |  4                                   |  4                                   | \n",
       "\n",
       "\n"
      ],
      "text/plain": [
       "     Name                                 Size       Kid_Friendly Dog_Friendly\n",
       "[1,]           Affenpinscher                       1  1            1          \n",
       "[2,]           Afghan Hound                        4  5            5          \n",
       "[3,]           Airedale Terrier                    3  4            4          \n",
       "[4,]           Akita                               4  1            1          \n",
       "[5,]           Alaskan Malamute                    4  3            3          \n",
       "[6,]           American English Coonhound          3  5            5          \n",
       "     Low_Shedding Easy_to_Groom High_Energy Good_Health Low_Barking\n",
       "[1,]  5            3             4           4           4         \n",
       "[2,]  2            1             5           3           4         \n",
       "[3,]  4            2             5           3           2         \n",
       "[4,]  1            1             4           4           1         \n",
       "[5,]  1            1             5           4           1         \n",
       "[6,]  3            5             5           4           1         \n",
       "     Intelligence Easy_to_Train Tolerates_Hot Tolerates_Cold\n",
       "[1,]  4            2             3             3            \n",
       "[2,]  4            1             5             5            \n",
       "[3,]  5            4             3             3            \n",
       "[4,]  3            2             2             5            \n",
       "[5,]  4            4             2             5            \n",
       "[6,]  4            5             4             4            "
      ]
     },
     "metadata": {},
     "output_type": "display_data"
    }
   ],
   "source": [
    "NoSpace = str_split_fixed(DataOnly, \"                   \", n=15)\n",
    "colnames(NoSpace)=c('', '', 'Name', 'Size', 'Kid_Friendly','Dog_Friendly','Low_Shedding','Easy_to_Groom','High_Energy','Good_Health','Low_Barking','Intelligence','Easy_to_Train','Tolerates_Hot','Tolerates_Cold')\n",
    "DogBreedChart = NoSpace[ , 3:15]\n",
    "head(DogBreedChart)"
   ]
  },
  {
   "cell_type": "markdown",
   "metadata": {},
   "source": [
    "First, the dog names must be extracted from the data frame and matched to an ID number. We do this so we can look up the dog breed after filtering though our list."
   ]
  },
  {
   "cell_type": "code",
   "execution_count": 23,
   "metadata": {},
   "outputs": [
    {
     "data": {
      "text/html": [
       "<table>\n",
       "<thead><tr><th scope=col>ID</th><th scope=col>Name</th></tr></thead>\n",
       "<tbody>\n",
       "\t<tr><td>1                                   </td><td>          Affenpinscher             </td></tr>\n",
       "\t<tr><td>2                                   </td><td>          Afghan Hound              </td></tr>\n",
       "\t<tr><td>3                                   </td><td>          Airedale Terrier          </td></tr>\n",
       "\t<tr><td>4                                   </td><td>          Akita                     </td></tr>\n",
       "\t<tr><td>5                                   </td><td>          Alaskan Malamute          </td></tr>\n",
       "\t<tr><td>6                                   </td><td>          American English Coonhound</td></tr>\n",
       "</tbody>\n",
       "</table>\n"
      ],
      "text/latex": [
       "\\begin{tabular}{r|ll}\n",
       " ID & Name\\\\\n",
       "\\hline\n",
       "\t 1                                    &           Affenpinscher             \\\\\n",
       "\t 2                                    &           Afghan Hound              \\\\\n",
       "\t 3                                    &           Airedale Terrier          \\\\\n",
       "\t 4                                    &           Akita                     \\\\\n",
       "\t 5                                    &           Alaskan Malamute          \\\\\n",
       "\t 6                                    &           American English Coonhound\\\\\n",
       "\\end{tabular}\n"
      ],
      "text/markdown": [
       "\n",
       "ID | Name | \n",
       "|---|---|---|---|---|---|\n",
       "| 1                                    |           Affenpinscher              | \n",
       "| 2                                    |           Afghan Hound               | \n",
       "| 3                                    |           Airedale Terrier           | \n",
       "| 4                                    |           Akita                      | \n",
       "| 5                                    |           Alaskan Malamute           | \n",
       "| 6                                    |           American English Coonhound | \n",
       "\n",
       "\n"
      ],
      "text/plain": [
       "  ID Name                                \n",
       "1 1            Affenpinscher             \n",
       "2 2            Afghan Hound              \n",
       "3 3            Airedale Terrier          \n",
       "4 4            Akita                     \n",
       "5 5            Alaskan Malamute          \n",
       "6 6            American English Coonhound"
      ]
     },
     "metadata": {},
     "output_type": "display_data"
    }
   ],
   "source": [
    "DogID = data.frame('ID'= 1:199, 'Name'= DogBreedChart[ ,1]) \n",
    "head(DogID)"
   ]
  },
  {
   "cell_type": "markdown",
   "metadata": {},
   "source": [
    "Next, the numeric data from the Dog Breed Table must be placed into a new data frame along with the ID values and the values converted so they are read by R as numbers and not characters as they have been before."
   ]
  },
  {
   "cell_type": "code",
   "execution_count": 24,
   "metadata": {},
   "outputs": [
    {
     "data": {
      "text/html": [
       "'numeric'"
      ],
      "text/latex": [
       "'numeric'"
      ],
      "text/markdown": [
       "'numeric'"
      ],
      "text/plain": [
       "[1] \"numeric\""
      ]
     },
     "metadata": {},
     "output_type": "display_data"
    },
    {
     "data": {
      "text/html": [
       "<table>\n",
       "<thead><tr><th scope=col>ID</th><th scope=col>Size</th><th scope=col>Kid_Friendly</th><th scope=col>Dog_Friendly</th><th scope=col>Low_Shedding</th><th scope=col>Easy_to_Groom</th><th scope=col>High_Energy</th><th scope=col>Good_Health</th><th scope=col>Low_Barking</th><th scope=col>Intelligence</th><th scope=col>Easy_to_Train</th><th scope=col>Tolerates_Hot</th><th scope=col>Tolerates_Cold</th></tr></thead>\n",
       "<tbody>\n",
       "\t<tr><td>1</td><td>1</td><td>1</td><td>1</td><td>5</td><td>3</td><td>3</td><td>4</td><td>5</td><td>5</td><td>2</td><td>3</td><td>3</td></tr>\n",
       "\t<tr><td>2</td><td>4</td><td>5</td><td>5</td><td>2</td><td>1</td><td>4</td><td>3</td><td>5</td><td>5</td><td>1</td><td>5</td><td>5</td></tr>\n",
       "\t<tr><td>3</td><td>3</td><td>4</td><td>4</td><td>4</td><td>2</td><td>4</td><td>3</td><td>3</td><td>6</td><td>4</td><td>3</td><td>3</td></tr>\n",
       "\t<tr><td>4</td><td>4</td><td>1</td><td>1</td><td>1</td><td>1</td><td>3</td><td>4</td><td>2</td><td>4</td><td>2</td><td>2</td><td>5</td></tr>\n",
       "\t<tr><td>5</td><td>4</td><td>3</td><td>3</td><td>1</td><td>1</td><td>4</td><td>4</td><td>2</td><td>5</td><td>4</td><td>2</td><td>5</td></tr>\n",
       "\t<tr><td>6</td><td>3</td><td>5</td><td>5</td><td>3</td><td>5</td><td>4</td><td>4</td><td>2</td><td>5</td><td>5</td><td>4</td><td>4</td></tr>\n",
       "</tbody>\n",
       "</table>\n"
      ],
      "text/latex": [
       "\\begin{tabular}{r|lllllllllllll}\n",
       " ID & Size & Kid\\_Friendly & Dog\\_Friendly & Low\\_Shedding & Easy\\_to\\_Groom & High\\_Energy & Good\\_Health & Low\\_Barking & Intelligence & Easy\\_to\\_Train & Tolerates\\_Hot & Tolerates\\_Cold\\\\\n",
       "\\hline\n",
       "\t 1 & 1 & 1 & 1 & 5 & 3 & 3 & 4 & 5 & 5 & 2 & 3 & 3\\\\\n",
       "\t 2 & 4 & 5 & 5 & 2 & 1 & 4 & 3 & 5 & 5 & 1 & 5 & 5\\\\\n",
       "\t 3 & 3 & 4 & 4 & 4 & 2 & 4 & 3 & 3 & 6 & 4 & 3 & 3\\\\\n",
       "\t 4 & 4 & 1 & 1 & 1 & 1 & 3 & 4 & 2 & 4 & 2 & 2 & 5\\\\\n",
       "\t 5 & 4 & 3 & 3 & 1 & 1 & 4 & 4 & 2 & 5 & 4 & 2 & 5\\\\\n",
       "\t 6 & 3 & 5 & 5 & 3 & 5 & 4 & 4 & 2 & 5 & 5 & 4 & 4\\\\\n",
       "\\end{tabular}\n"
      ],
      "text/markdown": [
       "\n",
       "ID | Size | Kid_Friendly | Dog_Friendly | Low_Shedding | Easy_to_Groom | High_Energy | Good_Health | Low_Barking | Intelligence | Easy_to_Train | Tolerates_Hot | Tolerates_Cold | \n",
       "|---|---|---|---|---|---|\n",
       "| 1 | 1 | 1 | 1 | 5 | 3 | 3 | 4 | 5 | 5 | 2 | 3 | 3 | \n",
       "| 2 | 4 | 5 | 5 | 2 | 1 | 4 | 3 | 5 | 5 | 1 | 5 | 5 | \n",
       "| 3 | 3 | 4 | 4 | 4 | 2 | 4 | 3 | 3 | 6 | 4 | 3 | 3 | \n",
       "| 4 | 4 | 1 | 1 | 1 | 1 | 3 | 4 | 2 | 4 | 2 | 2 | 5 | \n",
       "| 5 | 4 | 3 | 3 | 1 | 1 | 4 | 4 | 2 | 5 | 4 | 2 | 5 | \n",
       "| 6 | 3 | 5 | 5 | 3 | 5 | 4 | 4 | 2 | 5 | 5 | 4 | 4 | \n",
       "\n",
       "\n"
      ],
      "text/plain": [
       "  ID Size Kid_Friendly Dog_Friendly Low_Shedding Easy_to_Groom High_Energy\n",
       "1 1  1    1            1            5            3             3          \n",
       "2 2  4    5            5            2            1             4          \n",
       "3 3  3    4            4            4            2             4          \n",
       "4 4  4    1            1            1            1             3          \n",
       "5 5  4    3            3            1            1             4          \n",
       "6 6  3    5            5            3            5             4          \n",
       "  Good_Health Low_Barking Intelligence Easy_to_Train Tolerates_Hot\n",
       "1 4           5           5            2             3            \n",
       "2 3           5           5            1             5            \n",
       "3 3           3           6            4             3            \n",
       "4 4           2           4            2             2            \n",
       "5 4           2           5            4             2            \n",
       "6 4           2           5            5             4            \n",
       "  Tolerates_Cold\n",
       "1 3             \n",
       "2 5             \n",
       "3 3             \n",
       "4 5             \n",
       "5 5             \n",
       "6 4             "
      ]
     },
     "metadata": {},
     "output_type": "display_data"
    }
   ],
   "source": [
    "DogScore = data.frame('ID'= 1:199, 'Size' = DogBreedChart[ ,2], 'Kid_Friendly' = DogBreedChart[ ,3],'Dog_Friendly'= DogBreedChart[ ,4],'Low_Shedding'= DogBreedChart[ ,5],'Easy_to_Groom'= DogBreedChart[ ,6],'High_Energy'= DogBreedChart[ ,7],'Good_Health'= DogBreedChart[ ,8],'Low_Barking'= DogBreedChart[ ,9],'Intelligence'= DogBreedChart[ ,10],'Easy_to_Train'= DogBreedChart[ ,11],'Tolerates_Hot'= DogBreedChart[ ,12],'Tolerates_Cold'= DogBreedChart[ ,13])\n",
    "DSNumber = lapply(DogScore, as.numeric)\n",
    "Numeric_Score = as.data.frame(DSNumber)\n",
    "class(Numeric_Score[1,1])\n",
    "head(Numeric_Score)"
   ]
  },
  {
   "cell_type": "markdown",
   "metadata": {},
   "source": [
    "Next we used the `filter()` function to determine which dogs had a 'Kid_Friendly' value of 5. The function `nrow()` gives us the number of rows or breeds that meet this criteria. We started with 199 rows."
   ]
  },
  {
   "cell_type": "code",
   "execution_count": 25,
   "metadata": {},
   "outputs": [
    {
     "data": {
      "text/html": [
       "100"
      ],
      "text/latex": [
       "100"
      ],
      "text/markdown": [
       "100"
      ],
      "text/plain": [
       "[1] 100"
      ]
     },
     "metadata": {},
     "output_type": "display_data"
    }
   ],
   "source": [
    "Kid_Friendly = filter(Numeric_Score, Kid_Friendly == 5)\n",
    "nrow(Kid_Friendly)"
   ]
  },
  {
   "cell_type": "markdown",
   "metadata": {},
   "source": [
    "With only one search we had eliminated almost half of our dog breeds. Next, we will be filtering out the dogs that do not have a 'Good_Health' score equal to 5. We will be filtering this data from the 'Kid_Friendly' list because we want this filtered information to compound as we search. Always pulling from the previous data to refine."
   ]
  },
  {
   "cell_type": "code",
   "execution_count": 26,
   "metadata": {},
   "outputs": [
    {
     "data": {
      "text/html": [
       "18"
      ],
      "text/latex": [
       "18"
      ],
      "text/markdown": [
       "18"
      ],
      "text/plain": [
       "[1] 18"
      ]
     },
     "metadata": {},
     "output_type": "display_data"
    }
   ],
   "source": [
    "Good_Health = filter(Kid_Friendly, Good_Health == 5)\n",
    "nrow(Good_Health)"
   ]
  },
  {
   "cell_type": "markdown",
   "metadata": {},
   "source": [
    "For our third filter, we want to find out which dogs are the most easy to groom. We will be looking for an 'Easy_to_Groom' value of 5 here."
   ]
  },
  {
   "cell_type": "code",
   "execution_count": 27,
   "metadata": {},
   "outputs": [
    {
     "data": {
      "text/html": [
       "4"
      ],
      "text/latex": [
       "4"
      ],
      "text/markdown": [
       "4"
      ],
      "text/plain": [
       "[1] 4"
      ]
     },
     "metadata": {},
     "output_type": "display_data"
    }
   ],
   "source": [
    "Easy_to_Groom = filter(Good_Health, Easy_to_Groom == 5)\n",
    "nrow(Easy_to_Groom)"
   ]
  },
  {
   "cell_type": "markdown",
   "metadata": {},
   "source": [
    "For any family with young children, a quiet dog will likely be preferred over a dog that barks a lot. Therefore we will want a 'Low_Barking' value of 5."
   ]
  },
  {
   "cell_type": "code",
   "execution_count": 28,
   "metadata": {},
   "outputs": [
    {
     "data": {
      "text/html": [
       "1"
      ],
      "text/latex": [
       "1"
      ],
      "text/markdown": [
       "1"
      ],
      "text/plain": [
       "[1] 1"
      ]
     },
     "metadata": {},
     "output_type": "display_data"
    }
   ],
   "source": [
    "Low_Barking = filter(Easy_to_Groom, Low_Barking == 5)\n",
    "nrow(Low_Barking)"
   ]
  },
  {
   "cell_type": "markdown",
   "metadata": {},
   "source": [
    "At this point we were left with only one breed from our original list. For the final catagory, 'Easy_to_Train', we chose to filter by 5 again."
   ]
  },
  {
   "cell_type": "code",
   "execution_count": 29,
   "metadata": {
    "scrolled": true
   },
   "outputs": [
    {
     "data": {
      "text/html": [
       "0"
      ],
      "text/latex": [
       "0"
      ],
      "text/markdown": [
       "0"
      ],
      "text/plain": [
       "[1] 0"
      ]
     },
     "metadata": {},
     "output_type": "display_data"
    }
   ],
   "source": [
    "Easy_to_Train = filter(Low_Barking, Easy_to_Train == 5)\n",
    "nrow(Easy_to_Train)"
   ]
  },
  {
   "cell_type": "markdown",
   "metadata": {},
   "source": [
    "This decision has dropped our potential suitable dog breeds from one to zero. Therefore we have retroactively decided to lower the threshold for this value from five to four. A value of four in this case indicates that this breed of dog will still be easy enough to train."
   ]
  },
  {
   "cell_type": "code",
   "execution_count": 30,
   "metadata": {},
   "outputs": [
    {
     "data": {
      "text/html": [
       "1"
      ],
      "text/latex": [
       "1"
      ],
      "text/markdown": [
       "1"
      ],
      "text/plain": [
       "[1] 1"
      ]
     },
     "metadata": {},
     "output_type": "display_data"
    }
   ],
   "source": [
    "Easyish_to_Train = filter(Low_Barking, Easy_to_Train >= 4)\n",
    "nrow(Easyish_to_Train)"
   ]
  },
  {
   "cell_type": "markdown",
   "metadata": {},
   "source": [
    "With one suitable dog breed value remaining, we will run the previous vector to determine what the ID number for the dog is."
   ]
  },
  {
   "cell_type": "code",
   "execution_count": 31,
   "metadata": {},
   "outputs": [
    {
     "data": {
      "text/html": [
       "<table>\n",
       "<thead><tr><th scope=col>ID</th><th scope=col>Size</th><th scope=col>Kid_Friendly</th><th scope=col>Dog_Friendly</th><th scope=col>Low_Shedding</th><th scope=col>Easy_to_Groom</th><th scope=col>High_Energy</th><th scope=col>Good_Health</th><th scope=col>Low_Barking</th><th scope=col>Intelligence</th><th scope=col>Easy_to_Train</th><th scope=col>Tolerates_Hot</th><th scope=col>Tolerates_Cold</th></tr></thead>\n",
       "<tbody>\n",
       "\t<tr><td>26</td><td>4 </td><td>5 </td><td>5 </td><td>2 </td><td>5 </td><td>4 </td><td>5 </td><td>5 </td><td>5 </td><td>4 </td><td>3 </td><td>4 </td></tr>\n",
       "</tbody>\n",
       "</table>\n"
      ],
      "text/latex": [
       "\\begin{tabular}{r|lllllllllllll}\n",
       " ID & Size & Kid\\_Friendly & Dog\\_Friendly & Low\\_Shedding & Easy\\_to\\_Groom & High\\_Energy & Good\\_Health & Low\\_Barking & Intelligence & Easy\\_to\\_Train & Tolerates\\_Hot & Tolerates\\_Cold\\\\\n",
       "\\hline\n",
       "\t 26 & 4  & 5  & 5  & 2  & 5  & 4  & 5  & 5  & 5  & 4  & 3  & 4 \\\\\n",
       "\\end{tabular}\n"
      ],
      "text/markdown": [
       "\n",
       "ID | Size | Kid_Friendly | Dog_Friendly | Low_Shedding | Easy_to_Groom | High_Energy | Good_Health | Low_Barking | Intelligence | Easy_to_Train | Tolerates_Hot | Tolerates_Cold | \n",
       "|---|\n",
       "| 26 | 4  | 5  | 5  | 2  | 5  | 4  | 5  | 5  | 5  | 4  | 3  | 4  | \n",
       "\n",
       "\n"
      ],
      "text/plain": [
       "  ID Size Kid_Friendly Dog_Friendly Low_Shedding Easy_to_Groom High_Energy\n",
       "1 26 4    5            5            2            5             4          \n",
       "  Good_Health Low_Barking Intelligence Easy_to_Train Tolerates_Hot\n",
       "1 5           5           5            4             3            \n",
       "  Tolerates_Cold\n",
       "1 4             "
      ]
     },
     "metadata": {},
     "output_type": "display_data"
    }
   ],
   "source": [
    "Easyish_to_Train"
   ]
  },
  {
   "cell_type": "markdown",
   "metadata": {},
   "source": [
    "Finally, we will filter out the name of the dog breed with an ID value of 26. This is the dog that has met all of our criteria so far."
   ]
  },
  {
   "cell_type": "code",
   "execution_count": 32,
   "metadata": {},
   "outputs": [
    {
     "data": {
      "text/html": [
       "<table>\n",
       "<thead><tr><th scope=col>ID</th><th scope=col>Name</th></tr></thead>\n",
       "<tbody>\n",
       "\t<tr><td>26                     </td><td>          Berger Picard</td></tr>\n",
       "</tbody>\n",
       "</table>\n"
      ],
      "text/latex": [
       "\\begin{tabular}{r|ll}\n",
       " ID & Name\\\\\n",
       "\\hline\n",
       "\t 26                      &           Berger Picard\\\\\n",
       "\\end{tabular}\n"
      ],
      "text/markdown": [
       "\n",
       "ID | Name | \n",
       "|---|\n",
       "| 26                      |           Berger Picard | \n",
       "\n",
       "\n"
      ],
      "text/plain": [
       "  ID Name                   \n",
       "1 26           Berger Picard"
      ]
     },
     "metadata": {},
     "output_type": "display_data"
    }
   ],
   "source": [
    "TheDog = filter(DogID, ID == 26)\n",
    "TheDog"
   ]
  },
  {
   "cell_type": "markdown",
   "metadata": {},
   "source": [
    "The dog breed that we hypothesize is the best starting dog for a family is the Berger Picard."
   ]
  },
  {
   "cell_type": "markdown",
   "metadata": {},
   "source": [
    "#### Discussion (500 words)"
   ]
  },
  {
   "cell_type": "markdown",
   "metadata": {},
   "source": [
    "From our result, we have determined that the ideal breed of dog for a starting family is the Berger Picard. According to the information we pulled from the Dog Breed Chart, this breed of dog is the most docile, cleanly, and trainable.\n",
    "\n",
    "In a post written by the American Kennel Club it was found that the Berger Picard held the 141st spot in breed popularity (out of 192 breeds). They describe the breed as \"a lanky herding dog of strong bone and sturdy build... an ideal companion for athletic owners. Their rugged constitution, agility, and boundless energy make them eager partners in all kinds of sports, games, and outdoor pastimes. Exercise is a must; prolonged idleness and neglect will likely lead these sensitive, super-smart dogs to destructive behavior.\" In a house with any young children, a high energy pet will fit right in and not be neglected so long as the children are above the infancy stage. Under the grooming section of the Berger Picard page, caring instructions indicate a  need to only brush this breed about once a month, and bathe every few weeks. Additionally, Berger Picards are a traditional French hunting dog and naturally very sociable. This makes them easy to train and so long as socialization occurs frequently with the dog and training is taken seriously by the owners. Finally, in the health category, it is recommended that Berger Picards have check ups for their eyes and hips specifically just as often as their regular veterinary visit. Other than this, there are no other innate health problems surrounding this breed. (American Kennel Club, 2017)\n",
    "\n",
    "The credibility of this data does come into question as \"www.dogbreedchart.com\" does not appear to be an expert on canine behavior. The creator of this website, Eric Rowell, is a Principal Data Visualization Engineer with 332 followers on GitHub. None of his other credits or repositories appear to be dog related and it is unclear how he determined the numbers for each column and breed. Further research on Berger Picards and meeting with the dog in person, if you are going to adopt, are both great steps you can take to determine wither this dog the the right one for you.\n",
    "\n",
    "In a broader context, this type of information can be very important for any types of households that are looking to get a new dog. Breeds can be filtered by other characteristics such as 'Size', or 'Low_Shedding' to allow for potential pet owners to decide which breeds work best for them. This could also be a valuable tool for adoption centers or similar canine selling establishments that can use the chart to showcase which breeds have the highest rank in each category and utilize it as a retail instrument"
   ]
  },
  {
   "cell_type": "markdown",
   "metadata": {},
   "source": [
    "#### References"
   ]
  },
  {
   "cell_type": "markdown",
   "metadata": {},
   "source": [
    "American Kennel Club (n.d.), Date accessed: November 7th 2018, From: https://www.akc.org/dog-breeds/berger-picard/\n",
    "\n",
    "Rowell, E. (2016), Dog Breed Chart, Date accessed: November 4th 2018, From: http://www.dogbreedchart.com/"
   ]
  }
 ],
 "metadata": {
  "kernelspec": {
   "display_name": "R",
   "language": "R",
   "name": "ir"
  },
  "language_info": {
   "codemirror_mode": "r",
   "file_extension": ".r",
   "mimetype": "text/x-r-source",
   "name": "R",
   "pygments_lexer": "r",
   "version": "3.4.3"
  }
 },
 "nbformat": 4,
 "nbformat_minor": 2
}
